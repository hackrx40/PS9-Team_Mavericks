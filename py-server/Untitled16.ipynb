{
  "nbformat": 4,
  "nbformat_minor": 0,
  "metadata": {
    "colab": {
      "provenance": []
    },
    "kernelspec": {
      "name": "python3",
      "display_name": "Python 3"
    },
    "language_info": {
      "name": "python"
    }
  },
  "cells": [
    {
      "cell_type": "code",
      "execution_count": null,
      "metadata": {
        "colab": {
          "base_uri": "https://localhost:8080/",
          "height": 381
        },
        "id": "mqg6_YX0taMY",
        "outputId": "5ee9fab9-b2d8-496d-d27a-68a7e19cde69"
      },
      "outputs": [
        {
          "output_type": "error",
          "ename": "ModuleNotFoundError",
          "evalue": "ignored",
          "traceback": [
            "\u001b[0;31m---------------------------------------------------------------------------\u001b[0m",
            "\u001b[0;31mModuleNotFoundError\u001b[0m                       Traceback (most recent call last)",
            "\u001b[0;32m<ipython-input-1-22b6dc8aa9ca>\u001b[0m in \u001b[0;36m<cell line: 1>\u001b[0;34m()\u001b[0m\n\u001b[0;32m----> 1\u001b[0;31m \u001b[0;32mimport\u001b[0m \u001b[0mPyPDF2\u001b[0m\u001b[0;34m\u001b[0m\u001b[0;34m\u001b[0m\u001b[0m\n\u001b[0m\u001b[1;32m      2\u001b[0m \u001b[0;34m\u001b[0m\u001b[0m\n\u001b[1;32m      3\u001b[0m \u001b[0;32mdef\u001b[0m \u001b[0mis_text_uniform\u001b[0m\u001b[0;34m(\u001b[0m\u001b[0mpdf_file_path\u001b[0m\u001b[0;34m)\u001b[0m\u001b[0;34m:\u001b[0m\u001b[0;34m\u001b[0m\u001b[0;34m\u001b[0m\u001b[0m\n\u001b[1;32m      4\u001b[0m     \u001b[0;32mtry\u001b[0m\u001b[0;34m:\u001b[0m\u001b[0;34m\u001b[0m\u001b[0;34m\u001b[0m\u001b[0m\n\u001b[1;32m      5\u001b[0m         \u001b[0mpdf_file\u001b[0m \u001b[0;34m=\u001b[0m \u001b[0mopen\u001b[0m\u001b[0;34m(\u001b[0m\u001b[0mpdf_file_path\u001b[0m\u001b[0;34m,\u001b[0m \u001b[0;34m'rb'\u001b[0m\u001b[0;34m)\u001b[0m\u001b[0;34m\u001b[0m\u001b[0;34m\u001b[0m\u001b[0m\n",
            "\u001b[0;31mModuleNotFoundError\u001b[0m: No module named 'PyPDF2'",
            "",
            "\u001b[0;31m---------------------------------------------------------------------------\u001b[0;32m\nNOTE: If your import is failing due to a missing package, you can\nmanually install dependencies using either !pip or !apt.\n\nTo view examples of installing some common dependencies, click the\n\"Open Examples\" button below.\n\u001b[0;31m---------------------------------------------------------------------------\u001b[0m\n"
          ],
          "errorDetails": {
            "actions": [
              {
                "action": "open_url",
                "actionText": "Open Examples",
                "url": "/notebooks/snippets/importing_libraries.ipynb"
              }
            ]
          }
        }
      ],
      "source": [
        "import PyPDF2\n",
        "\n",
        "def is_text_uniform(pdf_file_path):\n",
        "    try:\n",
        "        pdf_file = open(pdf_file_path, 'rb')\n",
        "        pdf_reader = PyPDF2.PdfFileReader(pdf_file)\n",
        "\n",
        "        # Get the text from each page in the PDF\n",
        "        pdf_text = []\n",
        "        for page_num in range(pdf_reader.numPages):\n",
        "            page = pdf_reader.getPage(page_num)\n",
        "            pdf_text.append(page.extractText())\n",
        "\n",
        "        # Check for uniformity\n",
        "        first_text = pdf_text[0]\n",
        "        for text in pdf_text[1:]:\n",
        "            if text != first_text:\n",
        "                return False\n",
        "\n",
        "        return True\n",
        "    except Exception as e:\n",
        "        print(f\"Error: {e}\")\n",
        "        return False\n",
        "    finally:\n",
        "        pdf_file.close()\n",
        "\n",
        "# Usage example\n",
        "pdf_file_path = '/content/amazon forged.pdf'\n",
        "is_uniform = is_text_uniform(pdf_file_path)\n",
        "print(f\"The text in the PDF is uniform: {is_uniform}\")\n"
      ]
    },
    {
      "cell_type": "code",
      "source": [
        "!pip install PyPDF2\n"
      ],
      "metadata": {
        "colab": {
          "base_uri": "https://localhost:8080/"
        },
        "id": "4IDdB6rXuJ0C",
        "outputId": "69a73660-a149-4ddc-c9fa-5b07f1314579"
      },
      "execution_count": null,
      "outputs": [
        {
          "output_type": "stream",
          "name": "stdout",
          "text": [
            "Collecting PyPDF2\n",
            "  Downloading pypdf2-3.0.1-py3-none-any.whl (232 kB)\n",
            "\u001b[?25l     \u001b[90m━━━━━━━━━━━━━━━━━━━━━━━━━━━━━━━━━━━━━━━━\u001b[0m \u001b[32m0.0/232.6 kB\u001b[0m \u001b[31m?\u001b[0m eta \u001b[36m-:--:--\u001b[0m\r\u001b[2K     \u001b[91m━━━━━━━━━━━━━━━\u001b[0m\u001b[91m╸\u001b[0m\u001b[90m━━━━━━━━━━━━━━━━━━━━━━━━\u001b[0m \u001b[32m92.2/232.6 kB\u001b[0m \u001b[31m2.5 MB/s\u001b[0m eta \u001b[36m0:00:01\u001b[0m\r\u001b[2K     \u001b[90m━━━━━━━━━━━━━━━━━━━━━━━━━━━━━━━━━━━━━━━\u001b[0m \u001b[32m232.6/232.6 kB\u001b[0m \u001b[31m4.0 MB/s\u001b[0m eta \u001b[36m0:00:00\u001b[0m\n",
            "\u001b[?25hInstalling collected packages: PyPDF2\n",
            "Successfully installed PyPDF2-3.0.1\n"
          ]
        }
      ]
    },
    {
      "cell_type": "code",
      "source": [
        "import PyPDF2\n",
        "\n",
        "def is_text_uniform(pdf_file_path):\n",
        "    try:\n",
        "        pdf_file = open(pdf_file_path, 'rb')\n",
        "        pdf_reader = PyPDF2.PdfFileReader(pdf_file)\n",
        "\n",
        "        # Get the text from each page in the PDF\n",
        "        pdf_text = []\n",
        "        for page_num in range(pdf_reader.numPages):\n",
        "            page = pdf_reader.getPage(page_num)\n",
        "            pdf_text.append(page.extractText())\n",
        "\n",
        "        # Check for uniformity\n",
        "        first_text = pdf_text[0]\n",
        "        for text in pdf_text[1:]:\n",
        "            if text != first_text:\n",
        "                return False\n",
        "\n",
        "        return True\n",
        "    except Exception as e:\n",
        "        print(f\"Error: {e}\")\n",
        "        return False\n",
        "    finally:\n",
        "        pdf_file.close()\n",
        "\n",
        "# Usage example\n",
        "pdf_file_path = '/content/4572921_Dr.certificate.pdf'\n",
        "is_uniform = is_text_uniform(pdf_file_path)\n",
        "print(f\"The text in the PDF is uniform: {is_uniform}\")\n"
      ],
      "metadata": {
        "colab": {
          "base_uri": "https://localhost:8080/"
        },
        "id": "fn1F8KXQuH_l",
        "outputId": "36635aec-3c8c-4cd0-c7ff-4f8ec1353e39"
      },
      "execution_count": null,
      "outputs": [
        {
          "output_type": "stream",
          "name": "stdout",
          "text": [
            "Error: PdfFileReader is deprecated and was removed in PyPDF2 3.0.0. Use PdfReader instead.\n",
            "The text in the PDF is uniform: False\n"
          ]
        }
      ]
    },
    {
      "cell_type": "code",
      "source": [
        "import json\n",
        "\n",
        "def is_height_uniform(json_file_path, tolerance=5):\n",
        "    try:\n",
        "        with open(json_file_path, 'r') as json_file:\n",
        "            data = json.load(json_file)\n",
        "\n",
        "        # Extract heights from the JSON data\n",
        "        heights = [word[\"height\"] for word in data[\"words\"]]\n",
        "\n",
        "        # Check for uniformity\n",
        "        min_height = min(heights)\n",
        "        max_height = max(heights)\n",
        "        uniformity_range = max_height - min_height\n",
        "\n",
        "        return uniformity_range <= tolerance\n",
        "    except Exception as e:\n",
        "        print(f\"Error: {e}\")\n",
        "        return False\n",
        "\n",
        "# Usage example\n",
        "json_file_path = '/content/json.json'\n",
        "is_uniform = is_height_uniform(json_file_path)\n",
        "\n",
        "if is_uniform:\n",
        "    print(\"The height of the words is uniform.\")\n",
        "else:\n",
        "    print(\"The height of the words is not uniform.\")\n"
      ],
      "metadata": {
        "colab": {
          "base_uri": "https://localhost:8080/"
        },
        "id": "N8syCwSQuQho",
        "outputId": "0b6e58a7-6831-444b-b5f9-77005017b48f"
      },
      "execution_count": null,
      "outputs": [
        {
          "output_type": "stream",
          "name": "stdout",
          "text": [
            "Error: 'words'\n",
            "The height of the words is not uniform.\n"
          ]
        }
      ]
    },
    {
      "cell_type": "code",
      "source": [
        "import json\n",
        "\n",
        "def is_height_uniform(json_file_path, tolerance=5):\n",
        "    try:\n",
        "        with open(json_file_path, 'r') as json_file:\n",
        "            data = json.load(json_file)\n",
        "\n",
        "        # Extract heights from the JSON data\n",
        "        heights = []\n",
        "        for word_data in data[\"words\"]:\n",
        "            word_height = word_data.get(\"height\")\n",
        "            if word_height is not None:\n",
        "                heights.append(word_height)\n",
        "\n",
        "        if len(heights) == 0:\n",
        "            print(\"No height data found in the JSON file.\")\n",
        "            return False\n",
        "\n",
        "        # Check for uniformity\n",
        "        min_height = min(heights)\n",
        "        max_height = max(heights)\n",
        "        uniformity_range = max_height - min_height\n",
        "\n",
        "        return uniformity_range <= tolerance\n",
        "    except Exception as e:\n",
        "        print(f\"Error: {e}\")\n",
        "        return False\n",
        "\n",
        "# Usage example\n",
        "json_file_path = '/content/json.json'\n",
        "is_uniform = is_height_uniform(json_file_path)\n",
        "\n",
        "if is_uniform:\n",
        "    print(\"The height of the words is uniform.\")\n",
        "else:\n",
        "    print(\"The height of the words is not uniform.\")\n"
      ],
      "metadata": {
        "colab": {
          "base_uri": "https://localhost:8080/"
        },
        "id": "ANGKhyRJv_Hq",
        "outputId": "d3f4a394-8c90-4eb4-cb5a-4a472f30a241"
      },
      "execution_count": null,
      "outputs": [
        {
          "output_type": "stream",
          "name": "stdout",
          "text": [
            "Error: 'words'\n",
            "The height of the words is not uniform.\n"
          ]
        }
      ]
    },
    {
      "cell_type": "code",
      "source": [
        "import PyPDF2\n",
        "from collections import Counter\n",
        "\n",
        "def is_fonts_uniform(pdf_file_path):\n",
        "    try:\n",
        "        pdf_file = open(pdf_file_path, 'rb')\n",
        "        pdf_reader = PyPDF2.PdfFileReader(pdf_file)\n",
        "\n",
        "        fonts_used = []\n",
        "        for page_num in range(pdf_reader.numPages):\n",
        "            page = pdf_reader.getPage(page_num)\n",
        "            fonts_page = page.extract_text().encode('utf-8', 'ignore').decode('ascii', 'ignore').split()\n",
        "            fonts_used.extend(fonts_page)\n",
        "\n",
        "        # Count the occurrences of each font\n",
        "        font_counts = Counter(fonts_used)\n",
        "\n",
        "        # Check if the number of unique fonts is less than or equal to a threshold (e.g., 1 for uniformity)\n",
        "        uniformity_threshold = 1\n",
        "        return len(font_counts) <= uniformity_threshold\n",
        "\n",
        "    except Exception as e:\n",
        "        print(f\"Error: {e}\")\n",
        "        return False\n",
        "    finally:\n",
        "        pdf_file.close()\n",
        "\n",
        "# Usage example\n",
        "pdf_file_path = '/content/amazon forged.pdf'\n",
        "is_uniform = is_fonts_uniform(pdf_file_path)\n",
        "\n",
        "if is_uniform:\n",
        "    print(\"The fonts used in the PDF are uniform.\")\n",
        "else:\n",
        "    print(\"The fonts used in the PDF are not uniform.\")\n"
      ],
      "metadata": {
        "colab": {
          "base_uri": "https://localhost:8080/"
        },
        "id": "MFkMSAmP0Yxd",
        "outputId": "fb0ff322-4519-4378-8ff1-e67b3bd7c7f5"
      },
      "execution_count": null,
      "outputs": [
        {
          "output_type": "stream",
          "name": "stdout",
          "text": [
            "Error: PdfFileReader is deprecated and was removed in PyPDF2 3.0.0. Use PdfReader instead.\n",
            "The fonts used in the PDF are not uniform.\n"
          ]
        }
      ]
    },
    {
      "cell_type": "code",
      "source": [],
      "metadata": {
        "id": "hw0NYqN01SP0"
      },
      "execution_count": null,
      "outputs": []
    }
  ]
}